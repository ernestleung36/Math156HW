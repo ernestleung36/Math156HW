{
 "cells": [
  {
   "cell_type": "markdown",
   "metadata": {},
   "source": [
    "Problem 3"
   ]
  },
  {
   "cell_type": "code",
   "execution_count": 83,
   "metadata": {},
   "outputs": [],
   "source": [
    "import numpy  as np\n",
    "import pandas as pd \n",
    "import sklearn\n",
    "from sklearn import preprocessing"
   ]
  },
  {
   "cell_type": "code",
   "execution_count": 317,
   "metadata": {},
   "outputs": [],
   "source": [
    "def sigmoid(x):\n",
    "    return 1/(1 + np.exp(-x))\n",
    "\n",
    "def crossEntropyLoss(x, t):\n",
    "    (1 - t) * np.log(sigmoid(x)) + t * np.log(1 - sigmoid(x))\n",
    "\n",
    "def convert2prob(y):\n",
    "    return np.array([1 if label == \"B\" else 0 for label in y])\n",
    "\n",
    "def mbSGD(batch_size, alpha, epochs, X, t, w):\n",
    "    m, n = X.shape\n",
    "    X_b = np.c_[np.ones((m, 1)), X]\n",
    "    new_w = w\n",
    "    \n",
    "    # Convert target values to 0 or 1: M = 0, B = 1 \n",
    "    t = convert2prob(t.values.flatten()) \n",
    "    \n",
    "    for epoch in range(epochs):\n",
    "        # shuffle data \n",
    "        permutation = np.random.permutation(m)\n",
    "        X_shuffled = X_b[permutation] \n",
    "        t_shuffled = t[permutation]\n",
    "        \n",
    "        # Loop through each batch \n",
    "        for i in range(0, m, batch_size):\n",
    "            X_batch = X_shuffled[i:i + batch_size]\n",
    "            t_batch = t_shuffled[i:i + batch_size]\n",
    "            y_batch = sigmoid(np.dot(X_batch, w)) \n",
    "            \n",
    "            error = y_batch - t_batch \n",
    "            \n",
    "            gradient = np.dot(X_batch.T, error) / len(t_batch)\n",
    "            \n",
    "            new_w -= alpha * gradient \n",
    "    \n",
    "    return new_w \n",
    "\n",
    "def confusion_matrix(y_pred, y_true): \n",
    "    # Assume M = 0 and B = 1 \n",
    "    TP = np.sum((y_pred == \"B\") & (y_true == \"B\"))\n",
    "    FP = np.sum((y_pred == \"B\") & (y_true == \"M\"))\n",
    "    TN = np.sum((y_pred == \"M\") & (y_true == \"M\"))\n",
    "    FN = np.sum((y_pred == \"M\") & (y_true == \"B\"))\n",
    "    return TP, FP, TN, FN \n",
    "\n",
    "def eval(y_pred, y_true):\n",
    "    TP, FP, TN, FN = confusion_matrix(y_pred, y_true)\n",
    "\n",
    "    accuracy = (TP + TN) / len(y_pred)\n",
    "    precision = TP / (TP + FP) \n",
    "    recall = TP / (TP + FN)\n",
    "    F1 = 2 * precision * recall / (precision + recall)\n",
    "\n",
    "    return accuracy, precision, recall, F1\n",
    "    \n",
    "\n"
   ]
  },
  {
   "cell_type": "markdown",
   "metadata": {},
   "source": [
    "Problem 4 "
   ]
  },
  {
   "cell_type": "markdown",
   "metadata": {},
   "source": [
    "A. Load the data "
   ]
  },
  {
   "cell_type": "code",
   "execution_count": 282,
   "metadata": {},
   "outputs": [
    {
     "name": "stdout",
     "output_type": "stream",
     "text": [
      "{'uci_id': 17, 'name': 'Breast Cancer Wisconsin (Diagnostic)', 'repository_url': 'https://archive.ics.uci.edu/dataset/17/breast+cancer+wisconsin+diagnostic', 'data_url': 'https://archive.ics.uci.edu/static/public/17/data.csv', 'abstract': 'Diagnostic Wisconsin Breast Cancer Database.', 'area': 'Health and Medicine', 'tasks': ['Classification'], 'characteristics': ['Multivariate'], 'num_instances': 569, 'num_features': 30, 'feature_types': ['Real'], 'demographics': [], 'target_col': ['Diagnosis'], 'index_col': ['ID'], 'has_missing_values': 'no', 'missing_values_symbol': None, 'year_of_dataset_creation': 1993, 'last_updated': 'Fri Nov 03 2023', 'dataset_doi': '10.24432/C5DW2B', 'creators': ['William Wolberg', 'Olvi Mangasarian', 'Nick Street', 'W. Street'], 'intro_paper': {'ID': 230, 'type': 'NATIVE', 'title': 'Nuclear feature extraction for breast tumor diagnosis', 'authors': 'W. Street, W. Wolberg, O. Mangasarian', 'venue': 'Electronic imaging', 'year': 1993, 'journal': None, 'DOI': '10.1117/12.148698', 'URL': 'https://www.semanticscholar.org/paper/53f0fbb425bc14468eb3bf96b2e1d41ba8087f36', 'sha': None, 'corpus': None, 'arxiv': None, 'mag': None, 'acl': None, 'pmid': None, 'pmcid': None}, 'additional_info': {'summary': 'Features are computed from a digitized image of a fine needle aspirate (FNA) of a breast mass.  They describe characteristics of the cell nuclei present in the image. A few of the images can be found at http://www.cs.wisc.edu/~street/images/\\r\\n\\r\\nSeparating plane described above was obtained using Multisurface Method-Tree (MSM-T) [K. P. Bennett, \"Decision Tree Construction Via Linear Programming.\" Proceedings of the 4th Midwest Artificial Intelligence and Cognitive Science Society, pp. 97-101, 1992], a classification method which uses linear programming to construct a decision tree.  Relevant features were selected using an exhaustive search in the space of 1-4 features and 1-3 separating planes.\\r\\n\\r\\nThe actual linear program used to obtain the separating plane in the 3-dimensional space is that described in: [K. P. Bennett and O. L. Mangasarian: \"Robust Linear Programming Discrimination of Two Linearly Inseparable Sets\", Optimization Methods and Software 1, 1992, 23-34].\\r\\n\\r\\nThis database is also available through the UW CS ftp server:\\r\\nftp ftp.cs.wisc.edu\\r\\ncd math-prog/cpo-dataset/machine-learn/WDBC/', 'purpose': None, 'funded_by': None, 'instances_represent': None, 'recommended_data_splits': None, 'sensitive_data': None, 'preprocessing_description': None, 'variable_info': '1) ID number\\r\\n2) Diagnosis (M = malignant, B = benign)\\r\\n3-32)\\r\\n\\r\\nTen real-valued features are computed for each cell nucleus:\\r\\n\\r\\n\\ta) radius (mean of distances from center to points on the perimeter)\\r\\n\\tb) texture (standard deviation of gray-scale values)\\r\\n\\tc) perimeter\\r\\n\\td) area\\r\\n\\te) smoothness (local variation in radius lengths)\\r\\n\\tf) compactness (perimeter^2 / area - 1.0)\\r\\n\\tg) concavity (severity of concave portions of the contour)\\r\\n\\th) concave points (number of concave portions of the contour)\\r\\n\\ti) symmetry \\r\\n\\tj) fractal dimension (\"coastline approximation\" - 1)', 'citation': None}}\n",
      "                  name     role         type demographic description units  \\\n",
      "0                   ID       ID  Categorical        None        None  None   \n",
      "1            Diagnosis   Target  Categorical        None        None  None   \n",
      "2              radius1  Feature   Continuous        None        None  None   \n",
      "3             texture1  Feature   Continuous        None        None  None   \n",
      "4           perimeter1  Feature   Continuous        None        None  None   \n",
      "5                area1  Feature   Continuous        None        None  None   \n",
      "6          smoothness1  Feature   Continuous        None        None  None   \n",
      "7         compactness1  Feature   Continuous        None        None  None   \n",
      "8           concavity1  Feature   Continuous        None        None  None   \n",
      "9      concave_points1  Feature   Continuous        None        None  None   \n",
      "10           symmetry1  Feature   Continuous        None        None  None   \n",
      "11  fractal_dimension1  Feature   Continuous        None        None  None   \n",
      "12             radius2  Feature   Continuous        None        None  None   \n",
      "13            texture2  Feature   Continuous        None        None  None   \n",
      "14          perimeter2  Feature   Continuous        None        None  None   \n",
      "15               area2  Feature   Continuous        None        None  None   \n",
      "16         smoothness2  Feature   Continuous        None        None  None   \n",
      "17        compactness2  Feature   Continuous        None        None  None   \n",
      "18          concavity2  Feature   Continuous        None        None  None   \n",
      "19     concave_points2  Feature   Continuous        None        None  None   \n",
      "20           symmetry2  Feature   Continuous        None        None  None   \n",
      "21  fractal_dimension2  Feature   Continuous        None        None  None   \n",
      "22             radius3  Feature   Continuous        None        None  None   \n",
      "23            texture3  Feature   Continuous        None        None  None   \n",
      "24          perimeter3  Feature   Continuous        None        None  None   \n",
      "25               area3  Feature   Continuous        None        None  None   \n",
      "26         smoothness3  Feature   Continuous        None        None  None   \n",
      "27        compactness3  Feature   Continuous        None        None  None   \n",
      "28          concavity3  Feature   Continuous        None        None  None   \n",
      "29     concave_points3  Feature   Continuous        None        None  None   \n",
      "30           symmetry3  Feature   Continuous        None        None  None   \n",
      "31  fractal_dimension3  Feature   Continuous        None        None  None   \n",
      "\n",
      "   missing_values  \n",
      "0              no  \n",
      "1              no  \n",
      "2              no  \n",
      "3              no  \n",
      "4              no  \n",
      "5              no  \n",
      "6              no  \n",
      "7              no  \n",
      "8              no  \n",
      "9              no  \n",
      "10             no  \n",
      "11             no  \n",
      "12             no  \n",
      "13             no  \n",
      "14             no  \n",
      "15             no  \n",
      "16             no  \n",
      "17             no  \n",
      "18             no  \n",
      "19             no  \n",
      "20             no  \n",
      "21             no  \n",
      "22             no  \n",
      "23             no  \n",
      "24             no  \n",
      "25             no  \n",
      "26             no  \n",
      "27             no  \n",
      "28             no  \n",
      "29             no  \n",
      "30             no  \n",
      "31             no  \n"
     ]
    }
   ],
   "source": [
    "from ucimlrepo import fetch_ucirepo \n",
    "  \n",
    "# fetch dataset \n",
    "breast_cancer_wisconsin_diagnostic = fetch_ucirepo(id=17) \n",
    "  \n",
    "# data (as pandas dataframes) \n",
    "X = breast_cancer_wisconsin_diagnostic.data.features \n",
    "y = breast_cancer_wisconsin_diagnostic.data.targets \n",
    "  \n",
    "# metadata \n",
    "print(breast_cancer_wisconsin_diagnostic.metadata) \n",
    "  \n",
    "# variable information \n",
    "print(breast_cancer_wisconsin_diagnostic.variables) "
   ]
  },
  {
   "cell_type": "markdown",
   "metadata": {},
   "source": [
    "B. Split the dataset into train, validaton, and test sets."
   ]
  },
  {
   "cell_type": "code",
   "execution_count": 283,
   "metadata": {},
   "outputs": [],
   "source": [
    "from sklearn.model_selection import train_test_split\n",
    "from sklearn.preprocessing import StandardScaler\n",
    "\n",
    "X_train, X_test, y_train, y_test = train_test_split(X, y, test_size=0.15, random_state=42)\n",
    "X_train, X_val, y_train, y_val = train_test_split(X_train, y_train, test_size=0.10, random_state=42)\n",
    "\n",
    "scaler = StandardScaler() \n",
    "\n",
    "X_train = scaler.fit_transform(X_train) \n",
    "\n",
    "X_val = scaler.transform(X_val) \n",
    "X_test = scaler.transform(X_test)"
   ]
  },
  {
   "cell_type": "markdown",
   "metadata": {},
   "source": [
    "C. Report the size of each set "
   ]
  },
  {
   "cell_type": "code",
   "execution_count": 309,
   "metadata": {},
   "outputs": [
    {
     "name": "stdout",
     "output_type": "stream",
     "text": [
      "The size of the training set is 434 rows by 30 columns. \n",
      "The size of the validation set is 49 rows by 30 columns. \n",
      "The size of the testing set is 86 rows by 30 columns. \n"
     ]
    }
   ],
   "source": [
    "print(f\"The size of the training set is {X_train.shape[0]} rows by {X_train.shape[1]} columns. \")\n",
    "print(f\"The size of the validation set is {X_val.shape[0]} rows by {X_val.shape[1]} columns. \")\n",
    "print(f\"The size of the testing set is {X_test.shape[0]} rows by {X_test.shape[1]} columns. \")"
   ]
  },
  {
   "cell_type": "markdown",
   "metadata": {},
   "source": [
    "D. Train binary logistic model using Question 3"
   ]
  },
  {
   "cell_type": "code",
   "execution_count": 327,
   "metadata": {},
   "outputs": [
    {
     "name": "stdout",
     "output_type": "stream",
     "text": [
      "Accuracy of the model is 0.9795918367346939\n",
      "Precision of the model is 0.9655172413793104\n",
      "Recall of the model is 1.0\n",
      "F1 of the model is 0.9824561403508771 \n",
      "\n",
      "Accuracy of the model is 0.9795918367346939\n",
      "Precision of the model is 0.9655172413793104\n",
      "Recall of the model is 1.0\n",
      "F1 of the model is 0.9824561403508771 \n",
      "\n"
     ]
    }
   ],
   "source": [
    "import random\n",
    "\n",
    "w = np.array([random.gauss(0, 1) for _ in range(X.shape[1] + 1)])\n",
    "\n",
    "epochs = 10 \n",
    "\n",
    "# model 1 \n",
    "alpha1 = 0.1\n",
    "batch_size1 = 10\n",
    "w1 = mbSGD(10, 0.1, 1000, X_train, y_train, w)\n",
    "\n",
    "\n",
    "#model 2 \n",
    "alpha2 = 0.00000001 \n",
    "batch_size2 = 128\n",
    "w2 = mbSGD(batch_size2, alpha2, epochs, X_train, y_train, w)\n",
    "\n",
    "\n",
    "# Test on validation set \n",
    "X_val_b = np.c_[np.ones((X_val.shape[0], 1)), X_val]\n",
    "\n",
    "predicted_probabilities1 = sigmoid(np.dot(X_val_b, w1))\n",
    "predicted_probabilities2 = sigmoid(np.dot(X_val_b, w2))\n",
    "\n",
    "predictions1 = np.where(predicted_probabilities1 > 0.5, \"B\", \"M\")\n",
    "predictions2 = np.where(predicted_probabilities2 > 0.5, \"B\", \"M\")\n",
    "\n",
    "accuracy1, precision1, recall1, F1_1 = eval(predictions1, y_val.values.flatten())\n",
    "print(f\"Accuracy of the model is {accuracy1}\")\n",
    "print(f\"Precision of the model is {precision1}\")\n",
    "print(f\"Recall of the model is {recall1}\")\n",
    "print(f\"F1 of the model is {F1_1} \\n\")\n",
    "\n",
    "accuracy2, precision2, recall2, F1_2 = eval(predictions2, y_val.values.flatten())\n",
    "print(f\"Accuracy of the model is {accuracy2}\")\n",
    "print(f\"Precision of the model is {precision2}\")\n",
    "print(f\"Recall of the model is {recall2}\")\n",
    "print(f\"F1 of the model is {F1_2} \\n\")\n"
   ]
  },
  {
   "cell_type": "markdown",
   "metadata": {},
   "source": [
    "E. Report performance of the model "
   ]
  },
  {
   "cell_type": "code",
   "execution_count": 328,
   "metadata": {},
   "outputs": [
    {
     "name": "stdout",
     "output_type": "stream",
     "text": [
      "Accuracy of the model is 0.9767441860465116\n",
      "Precision of the model is 0.9814814814814815\n",
      "Recall of the model is 0.9814814814814815\n",
      "F1 of the model is 0.9814814814814815 \n",
      "\n"
     ]
    }
   ],
   "source": [
    "X_test_b = np.c_[np.ones((X_test.shape[0], 1)), X_test]\n",
    "target = convert2prob(y_test.values.flatten())\n",
    "\n",
    "test_pred_prob = sigmoid(np.dot(X_test_b, w1))\n",
    "test_pred_label = np.where(test_pred_prob > 0.5, \"B\", \"M\")\n",
    "\n",
    "\n",
    "accuracy_test, precision_test, recall_test, F1_test = eval(test_pred_label, y_test.values.flatten())\n",
    "print(f\"Accuracy of the model is {accuracy_test}\")\n",
    "print(f\"Precision of the model is {precision_test}\")\n",
    "print(f\"Recall of the model is {recall_test}\")\n",
    "print(f\"F1 of the model is {F1_test} \\n\")\n"
   ]
  },
  {
   "cell_type": "markdown",
   "metadata": {},
   "source": [
    "F. Summarize findings "
   ]
  },
  {
   "cell_type": "markdown",
   "metadata": {},
   "source": [
    "Using the w that we learned from the training data and finetuning the hyperparameters, alpha and batch size, with the validaton set, high scores in accuracy, precision, recall, and F1 were obtained when testing on the teseting data. Although the variation in these four metrics was minimal despite changing the learning rate and batch sizes when testing the obtained weights on the validation set, the model is accurate on both the validation and the testing data.  "
   ]
  }
 ],
 "metadata": {
  "kernelspec": {
   "display_name": "base",
   "language": "python",
   "name": "python3"
  },
  "language_info": {
   "codemirror_mode": {
    "name": "ipython",
    "version": 3
   },
   "file_extension": ".py",
   "mimetype": "text/x-python",
   "name": "python",
   "nbconvert_exporter": "python",
   "pygments_lexer": "ipython3",
   "version": "3.10.9"
  }
 },
 "nbformat": 4,
 "nbformat_minor": 2
}
